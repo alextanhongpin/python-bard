{
 "cells": [
  {
   "cell_type": "code",
   "execution_count": 9,
   "id": "e094f429-1a5d-4f7a-9e01-3b690a74edc3",
   "metadata": {
    "tags": []
   },
   "outputs": [],
   "source": [
    "!{sys.executable} -m pip install -qqq google-generativeai\n",
    "import os\n",
    "import pprint\n",
    "import sys\n",
    "\n",
    "import google.generativeai as palm"
   ]
  },
  {
   "cell_type": "code",
   "execution_count": 10,
   "id": "01fb34f9-ca3a-4edf-aff5-57f64c6b126a",
   "metadata": {
    "tags": []
   },
   "outputs": [],
   "source": [
    "palm.configure(api_key=os.environ[\"BARD_API_KEY\"])"
   ]
  },
  {
   "cell_type": "code",
   "execution_count": 17,
   "id": "880f7006-0b10-4630-820f-8aa0a65655f9",
   "metadata": {
    "tags": []
   },
   "outputs": [
    {
     "name": "stdout",
     "output_type": "stream",
     "text": [
      "models/text-bison-001\n",
      "models/text-bison-recitation-off\n",
      "models/text-bison-safety-off\n",
      "models/text-bison-safety-recitation-off\n"
     ]
    }
   ],
   "source": [
    "models = [\n",
    "    m for m in palm.list_models() if \"generateText\" in m.supported_generation_methods\n",
    "]\n",
    "for model in models:\n",
    "    print(model.name)"
   ]
  },
  {
   "cell_type": "code",
   "execution_count": 19,
   "id": "d6345365-abd2-4ca2-b463-dd3b4895e5a8",
   "metadata": {
    "tags": []
   },
   "outputs": [
    {
     "data": {
      "text/plain": [
       "Completion(candidates=[...],\n",
       "           result=...,\n",
       "           filters=[],\n",
       "           safety_feedback=[])"
      ]
     },
     "execution_count": 19,
     "metadata": {},
     "output_type": "execute_result"
    }
   ],
   "source": [
    "prompt = \"\"\"\n",
    "You are a stand up comedian.\n",
    "\n",
    "Tell me something funny about today\n",
    "\"\"\"\n",
    "\n",
    "completion = palm.generate_text(\n",
    "    # models/text-bison-001\n",
    "    model=models[0],\n",
    "    prompt=prompt,\n",
    "    temperature=0.7,\n",
    "    # The maximum length of the response\n",
    "    max_output_tokens=800,\n",
    ")\n",
    "completion"
   ]
  },
  {
   "cell_type": "code",
   "execution_count": 21,
   "id": "53e37865-19a7-4fb1-a493-f2ba34413b15",
   "metadata": {
    "tags": []
   },
   "outputs": [
    {
     "name": "stdout",
     "output_type": "stream",
     "text": [
      "Did you hear about the new law that just passed? It's now illegal to have a pet fish in a bowl. Apparently, it's considered animal cruelty.\n",
      "\n",
      "I mean, come on! It's not like the fish is going to drown. It's got a whole bowl of water to swim in!\n",
      "\n",
      "But seriously, what's the point of having a pet fish if you can't watch it swim around? It's like getting a TV and then covering the screen with a blanket.\n",
      "\n",
      "I guess the lawmakers just don't understand the joy of owning a pet fish. But I do. And I'm going to keep on enjoying my fish, even if it means breaking the law.\n"
     ]
    }
   ],
   "source": [
    "print(completion.result)"
   ]
  }
 ],
 "metadata": {
  "kernelspec": {
   "display_name": "Python 3 (ipykernel)",
   "language": "python",
   "name": "python3"
  },
  "language_info": {
   "codemirror_mode": {
    "name": "ipython",
    "version": 3
   },
   "file_extension": ".py",
   "mimetype": "text/x-python",
   "name": "python",
   "nbconvert_exporter": "python",
   "pygments_lexer": "ipython3",
   "version": "3.11.6"
  },
  "widgets": {
   "application/vnd.jupyter.widget-state+json": {
    "state": {},
    "version_major": 2,
    "version_minor": 0
   }
  }
 },
 "nbformat": 4,
 "nbformat_minor": 5
}
