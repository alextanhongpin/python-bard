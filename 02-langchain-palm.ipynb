{
 "cells": [
  {
   "cell_type": "code",
   "execution_count": 2,
   "id": "13f1bf52-9a77-4eb8-9b3b-afba54af4198",
   "metadata": {
    "tags": []
   },
   "outputs": [],
   "source": [
    "import sys\n",
    "\n",
    "!{sys.executable} -m pip install -qqq langchain google-cloud-aiplatform jupyterlab-code-formatter"
   ]
  },
  {
   "cell_type": "code",
   "execution_count": 2,
   "id": "79fb8311-6966-4272-9cb5-4c852c880016",
   "metadata": {
    "tags": []
   },
   "outputs": [
    {
     "name": "stdout",
     "output_type": "stream",
     "text": [
      "0.0.330\n"
     ]
    }
   ],
   "source": [
    "import langchain\n",
    "\n",
    "print(langchain.__version__)"
   ]
  },
  {
   "cell_type": "code",
   "execution_count": 3,
   "id": "06aec2c1-e31a-472e-bbb5-175e8f35d133",
   "metadata": {
    "tags": []
   },
   "outputs": [
    {
     "data": {
      "text/plain": [
       "'3.11.6 (main, Oct  2 2023, 20:14:46) [Clang 14.0.0 (clang-1400.0.29.202)]'"
      ]
     },
     "execution_count": 3,
     "metadata": {},
     "output_type": "execute_result"
    }
   ],
   "source": [
    "sys.version"
   ]
  },
  {
   "cell_type": "code",
   "execution_count": 1,
   "id": "2e0451bc-2058-4678-89d4-dc9602aa9e36",
   "metadata": {
    "tags": []
   },
   "outputs": [
    {
     "name": "stdout",
     "output_type": "stream",
     "text": [
      "**Effective** means producing a desired or intended result. **Affective** means relating to, or affecting the emotions.\n",
      "\n",
      "**Examples:**\n",
      "\n",
      "* **Effective:** A teacher who is effective is able to help students learn new material.\n",
      "* **Affective:** A teacher who is affective is able to connect with students on a personal level and make them feel supported.\n",
      "\n",
      "**Effectiveness** is often measured by results, while **affect** is often measured by feelings.\n",
      "\n",
      "**Examples:**\n",
      "\n",
      "* **Effectiveness:** A study found that students who were taught by effective teachers scored higher on standardized tests.\n",
      "* **Affect:** A study found that students who were taught by affective teachers reported feeling more supported and engaged in learning.\n",
      "\n",
      "It is important to note that effectiveness and affect are not mutually exclusive. A teacher can be both effective and affective. In fact, research suggests that teachers who are able to connect with students on a personal level are more likely to be effective in helping them learn.\n",
      "\n",
      "**Conclusion:**\n",
      "\n",
      "Effectiveness and affect are two important qualities that teachers can have. Effective teachers are able to help students learn new material, while affective teachers are able to connect with students on a personal level and make them feel supported. Teachers who are able to combine effectiveness and affect are more likely to be successful in helping their students learn.\n"
     ]
    }
   ],
   "source": [
    "from langchain.embeddings import GooglePalmEmbeddings\n",
    "from langchain.llms import GooglePalm\n",
    "import google.generativeai\n",
    "import os\n",
    "\n",
    "llm = GooglePalm(google_api_key=os.getenv('GOOGLE_API_KEY'))\n",
    "llm.temperature = 0.1\n",
    "\n",
    "prompts = ['Explain the difference between effective and affective with examples']\n",
    "llm_result = llm._generate(prompts)\n",
    "\n",
    "print(llm_result.generations[0][0].text)"
   ]
  }
 ],
 "metadata": {
  "kernelspec": {
   "display_name": "Python 3 (ipykernel)",
   "language": "python",
   "name": "python3"
  },
  "language_info": {
   "codemirror_mode": {
    "name": "ipython",
    "version": 3
   },
   "file_extension": ".py",
   "mimetype": "text/x-python",
   "name": "python",
   "nbconvert_exporter": "python",
   "pygments_lexer": "ipython3",
   "version": "3.11.6"
  }
 },
 "nbformat": 4,
 "nbformat_minor": 5
}
