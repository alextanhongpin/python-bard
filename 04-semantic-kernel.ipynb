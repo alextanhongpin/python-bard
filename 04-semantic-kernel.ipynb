{
 "cells": [
  {
   "cell_type": "code",
   "execution_count": 1,
   "id": "a2d84b6c-8314-4a80-9d17-8200dbbfc4f4",
   "metadata": {},
   "outputs": [],
   "source": [
    "!pip install -qqq semantic-kernel"
   ]
  },
  {
   "cell_type": "code",
   "execution_count": 8,
   "id": "06fa74c3-842b-4071-bf70-26f543d5dc89",
   "metadata": {},
   "outputs": [],
   "source": [
    "import semantic_kernel as sk\n",
    "import semantic_kernel.connectors.ai.google_palm as sk_gp\n",
    "from IPython.display import display, Markdown"
   ]
  },
  {
   "cell_type": "code",
   "execution_count": 3,
   "id": "e1b6dddd-824f-4fa5-811e-265e3c18c9ee",
   "metadata": {},
   "outputs": [],
   "source": [
    "kernel = sk.Kernel()\n",
    "\n",
    "# Read from GOOGLE_PALM_API_KEY\n",
    "apikey = sk.google_palm_settings_from_dot_env()"
   ]
  },
  {
   "cell_type": "code",
   "execution_count": 4,
   "id": "8f2d225b-376f-47f2-bf05-780fc96622bc",
   "metadata": {},
   "outputs": [
    {
     "data": {
      "text/plain": [
       "<semantic_kernel.kernel.Kernel at 0x11964ff90>"
      ]
     },
     "execution_count": 4,
     "metadata": {},
     "output_type": "execute_result"
    }
   ],
   "source": [
    "palm_text_embed = sk_gp.GooglePalmTextEmbedding(\"models/embedding-gecko-001\", apikey)\n",
    "kernel.add_text_embedding_generation_service(\"gecko\", palm_text_embed)\n",
    "\n",
    "palm_chat_completion = sk_gp.GooglePalmChatCompletion(\"models/chat-bison-001\", apikey)\n",
    "kernel.add_chat_service(\"models/chat-bison-001\", palm_chat_completion)"
   ]
  },
  {
   "cell_type": "code",
   "execution_count": 5,
   "id": "83d10582-52b3-490f-ba69-869c5d15b7d7",
   "metadata": {},
   "outputs": [
    {
     "name": "stdout",
     "output_type": "stream",
     "text": [
      "A semantic function for summarization has been registered.\n"
     ]
    }
   ],
   "source": [
    "sk_prompt = \"\"\"\n",
    "{{$input}}\n",
    "\n",
    "Summarize the content above in less than 140 characters.\n",
    "\"\"\"\n",
    "summary_function = kernel.create_semantic_function(prompt_template = sk_prompt,\n",
    "                                                   description=\"Summarizes the input to length of an old tweet.\",\n",
    "                                                   max_tokens=200,\n",
    "                                                   temperature=0.1,\n",
    "                                                   top_p=0.5)       \n",
    "print(\"A semantic function for summarization has been registered.\");"
   ]
  },
  {
   "cell_type": "code",
   "execution_count": 9,
   "id": "69d4041f-bcc6-42dc-8afb-36c13aa56613",
   "metadata": {},
   "outputs": [
    {
     "data": {
      "text/markdown": [
       "### ✨ AI can help small businesses like pizza stores improve their operations and increase revenue by spotting patterns in data."
      ],
      "text/plain": [
       "<IPython.core.display.Markdown object>"
      ]
     },
     "metadata": {},
     "output_type": "display_data"
    }
   ],
   "source": [
    "sk_input = \"\"\"\n",
    "Let me illustrate an example. Many weekends, I drive a few minutes from my house to a local pizza store to buy \n",
    "a slice of Hawaiian pizza from the gentleman that owns this pizza store. And his pizza is great, but he always \n",
    "has a lot of cold pizzas sitting around, and every weekend some different flavor of pizza is out of stock. \n",
    "But when I watch him operate his store, I get excited, because by selling pizza, he is generating data. \n",
    "And this is data that he can take advantage of if he had access to AI.\n",
    "\n",
    "AI systems are good at spotting patterns when given access to the right data, and perhaps an AI system could spot \n",
    "if Mediterranean pizzas sell really well on a Friday night, maybe it could suggest to him to make more of it on a \n",
    "Friday afternoon. Now you might say to me, \"Hey, Andrew, this is a small pizza store. What's the big deal?\" And I \n",
    "say, to the gentleman that owns this pizza store, something that could help him improve his revenues by a few \n",
    "thousand dollars a year, that will be a huge deal to him.\n",
    "\"\"\";\n",
    "# Text source: https://www.ted.com/talks/andrew_ng_how_ai_could_empower_any_business/transcript\n",
    "\n",
    "summary_result = await kernel.run_async(summary_function, input_str=sk_input)\n",
    "\n",
    "display(Markdown(\"### ✨ \" + str(summary_result)))"
   ]
  },
  {
   "cell_type": "code",
   "execution_count": 10,
   "id": "28b07948-6897-4c23-98c5-5fb73e40f3fc",
   "metadata": {},
   "outputs": [
    {
     "data": {
      "text/markdown": [
       "### ✨ AI can help small businesses like pizza stores improve their operations and increase revenue by spotting patterns in data. For example, it could suggest making more Mediterranean pizzas on Friday afternoons."
      ],
      "text/plain": [
       "<IPython.core.display.Markdown object>"
      ]
     },
     "metadata": {},
     "output_type": "display_data"
    }
   ],
   "source": [
    "summary_result = summary_function(sk_input)\n",
    "\n",
    "display(Markdown(\"### ✨ \" + str(summary_result)))"
   ]
  },
  {
   "cell_type": "markdown",
   "id": "3b200a26-a457-40b0-856e-375700d9873a",
   "metadata": {},
   "source": [
    "## Plugins"
   ]
  },
  {
   "cell_type": "code",
   "execution_count": 11,
   "id": "96a4a01f-74d1-4836-a53f-778e7738133a",
   "metadata": {},
   "outputs": [],
   "source": [
    "plugins_dir = './plugins-sk'"
   ]
  },
  {
   "cell_type": "code",
   "execution_count": 19,
   "id": "bf62e4d7-1b50-4f89-a8f4-7661fb9c7864",
   "metadata": {},
   "outputs": [
    {
     "data": {
      "text/markdown": [
       "AI can help small businesses like pizza stores improve their operations and increase revenue by spotting patterns in data. For example, it could suggest making more Mediterranean pizzas on Friday afternoons. This could help the store reduce waste and increase sales.\n",
       "\n",
       "Here is a shorter summary:\n",
       "\n",
       "AI can help small businesses like pizza stores improve their operations and increase revenue."
      ],
      "text/plain": [
       "<IPython.core.display.Markdown object>"
      ]
     },
     "metadata": {},
     "output_type": "display_data"
    }
   ],
   "source": [
    "pluginDT = kernel.import_semantic_skill_from_directory(plugins_dir, \"Text\")\n",
    "\n",
    "my_context = kernel.create_new_context()\n",
    "my_context['input'] = sk_input\n",
    "my_result = await kernel.run_async(pluginDT[\"summarizer\"], input_context=my_context)\n",
    "\n",
    "display(Markdown(str(my_result)))"
   ]
  }
 ],
 "metadata": {
  "kernelspec": {
   "display_name": "Python 3 (ipykernel)",
   "language": "python",
   "name": "python3"
  },
  "language_info": {
   "codemirror_mode": {
    "name": "ipython",
    "version": 3
   },
   "file_extension": ".py",
   "mimetype": "text/x-python",
   "name": "python",
   "nbconvert_exporter": "python",
   "pygments_lexer": "ipython3",
   "version": "3.11.6"
  }
 },
 "nbformat": 4,
 "nbformat_minor": 5
}
