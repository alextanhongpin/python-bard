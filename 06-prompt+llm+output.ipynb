{
 "cells": [
  {
   "cell_type": "code",
   "execution_count": 5,
   "id": "678f6f8e-63af-4fc1-9316-f664bc521f3d",
   "metadata": {},
   "outputs": [
    {
     "name": "stdout",
     "output_type": "stream",
     "text": [
      "generate the JSON array of 10 users based on the requested entity .\n",
      "The output should be a markdown code snippet formatted in the following schema, including the leading and trailing \"```json\" and \"```\":\n",
      "\n",
      "```json\n",
      "{\n",
      "\t\"entity\": string  // the name of the entity\n",
      "\t\"data\": string  // the array of the entity\n",
      "}\n",
      "```\n",
      "\n"
     ]
    }
   ],
   "source": [
    "from langchain.prompts import PromptTemplate\n",
    "from langchain.llms import GooglePalm\n",
    "from langchain.output_parsers import StructuredOutputParser, ResponseSchema\n",
    "\n",
    "response_schemas = [\n",
    "    ResponseSchema(name=\"entity\", description=\"the name of the entity\"),\n",
    "    ResponseSchema(name=\"data\", description=\"the array of the entity\")\n",
    "]\n",
    "output_parser = StructuredOutputParser.from_response_schemas(response_schemas)\n",
    "\n",
    "format_instructions = output_parser.get_format_instructions()\n",
    "prompt = PromptTemplate(\n",
    "    template=\"generate the JSON array of {length} {entity} based on the requested entity .\\n{format_instructions}\\n\",\n",
    "    input_variables=[\"length\", \"entity\"],\n",
    "    partial_variables={\"format_instructions\": format_instructions}\n",
    ")\n",
    "\n",
    "print(prompt.format(length=10, entity='users'))"
   ]
  },
  {
   "cell_type": "code",
   "execution_count": 8,
   "id": "7c8a0f80-ac0c-4b55-9fc9-080ab159d239",
   "metadata": {},
   "outputs": [
    {
     "name": "stdout",
     "output_type": "stream",
     "text": [
      "```json\n",
      "{\n",
      "\t\"entity\": \"users\",\n",
      "\t\"data\": [\n",
      "\t\t{\n",
      "\t\t\t\"id\": \"1\",\n",
      "\t\t\t\"name\": \"John Doe\",\n",
      "\t\t\t\"email\": \"john.doe@example.com\",\n",
      "\t\t\t\"phone\": \"123-456-7890\",\n",
      "\t\t\t\"address\": \"123 Main Street, Anytown, CA 12345\"\n",
      "\t\t},\n",
      "\t\t{\n",
      "\t\t\t\"id\": \"2\",\n",
      "\t\t\t\"name\": \"Jane Doe\",\n",
      "\t\t\t\"email\": \"jane.doe@example.com\",\n",
      "\t\t\t\"phone\": \"456-789-0123\",\n",
      "\t\t\t\"address\": \"456 Elm Street, Anytown, CA 12345\"\n",
      "\t\t},\n",
      "\t\t{\n",
      "\t\t\t\"id\": \"3\",\n",
      "\t\t\t\"name\": \"Michael Smith\",\n",
      "\t\t\t\"email\": \"michael.smith@example.com\",\n",
      "\t\t\t\"phone\": \"789-012-3456\",\n",
      "\t\t\t\"address\": \"789 Oak Street, Anytown, CA 12345\"\n",
      "\t\t},\n",
      "\t\t{\n",
      "\t\t\t\"id\": \"4\",\n",
      "\t\t\t\"name\": \"Mary Jones\",\n",
      "\t\t\t\"email\": \"mary.jones@example.com\",\n",
      "\t\t\t\"phone\": \"012-345-6789\",\n",
      "\t\t\t\"address\": \"012 Pine Street, Anytown, CA 12345\"\n",
      "\t\t},\n",
      "\t\t{\n",
      "\t\t\t\"id\": \"5\",\n",
      "\t\t\t\"name\": \"David Brown\",\n",
      "\t\t\t\"email\": \"david.brown@example.com\",\n",
      "\t\t\t\"phone\": \"678-901-2345\",\n",
      "\t\t\t\"address\": \"678 Maple Street, Anytown, CA 12345\"\n",
      "\t\t},\n",
      "\t\t{\n",
      "\t\t\t\"id\": \"6\",\n",
      "\t\t\t\"name\": \"Susan Green\",\n",
      "\t\t\t\"email\": \"susan.green@example.com\",\n",
      "\t\t\t\"phone\": \"901-234-5678\",\n",
      "\t\t\t\"address\": \"901 Elm Street, Anytown, CA 12345\"\n",
      "\t\t},\n",
      "\t\t{\n",
      "\t\t\t\"id\": \"7\",\n",
      "\t\t\t\"name\": \"Thomas Williams\",\n",
      "\t\t\t\"email\": \"thomas.williams@example.com\",\n",
      "\t\t\t\"phone\": \"234-567-8901\",\n",
      "\t\t\t\"address\": \"234 Pine Street, Anytown, CA 12345\"\n",
      "\t\t},\n",
      "\t\t{\n",
      "\t\t\t\"id\": \"8\",\n",
      "\t\t\t\"name\": \"Elizabeth Johnson\",\n",
      "\t\t\t\"email\": \"elizabeth.johnson@example.com\",\n",
      "\t\t\t\"phone\": \"567-890-1234\",\n",
      "\t\t\t\"address\": \"567 Maple Street, Anytown, CA 12345\"\n",
      "\t\t},\n",
      "\t\t{\n",
      "\t\t\t\"id\": \"9\",\n",
      "\t\t\t\"name\": \"James Miller\",\n",
      "\t\t\t\"email\": \"james.miller@example.com\",\n",
      "\t\t\t\"phone\": \"890-123-4567\",\n",
      "\t\t\t\"address\": \"890 Elm Street, Anytown, CA 12345\"\n",
      "\t\t},\n",
      "\t\t{\n",
      "\t\t\t\"id\": \"10\",\n",
      "\t\t\t\"name\": \"William Anderson\",\n",
      "\t\t\t\"email\": \"william.anderson@example.com\",\n",
      "\t\t\t\"phone\": \"123-456-7890\",\n",
      "\t\t\t\"address\": \"123 Main Street, Anytown, CA 12345\"\n",
      "\t\t}\n",
      "\t]\n",
      "}\n",
      "```\n"
     ]
    }
   ],
   "source": [
    "model = GooglePalm()\n",
    "chain = prompt | model\n",
    "output = chain.invoke({'entity': 'users', 'length': 10})\n",
    "print(output)"
   ]
  },
  {
   "cell_type": "code",
   "execution_count": 9,
   "id": "2b974f8f-e040-4987-9759-e969a265fef6",
   "metadata": {},
   "outputs": [
    {
     "data": {
      "text/plain": [
       "{'entity': 'users',\n",
       " 'data': [{'id': '1',\n",
       "   'name': 'John Doe',\n",
       "   'email': 'john.doe@example.com',\n",
       "   'phone': '123-456-7890',\n",
       "   'address': '123 Main Street, Anytown, CA 12345'},\n",
       "  {'id': '2',\n",
       "   'name': 'Jane Doe',\n",
       "   'email': 'jane.doe@example.com',\n",
       "   'phone': '456-789-0123',\n",
       "   'address': '456 Elm Street, Anytown, CA 12345'},\n",
       "  {'id': '3',\n",
       "   'name': 'Michael Smith',\n",
       "   'email': 'michael.smith@example.com',\n",
       "   'phone': '789-012-3456',\n",
       "   'address': '789 Oak Street, Anytown, CA 12345'},\n",
       "  {'id': '4',\n",
       "   'name': 'Mary Jones',\n",
       "   'email': 'mary.jones@example.com',\n",
       "   'phone': '012-345-6789',\n",
       "   'address': '012 Pine Street, Anytown, CA 12345'},\n",
       "  {'id': '5',\n",
       "   'name': 'David Brown',\n",
       "   'email': 'david.brown@example.com',\n",
       "   'phone': '678-901-2345',\n",
       "   'address': '678 Maple Street, Anytown, CA 12345'},\n",
       "  {'id': '6',\n",
       "   'name': 'Susan Green',\n",
       "   'email': 'susan.green@example.com',\n",
       "   'phone': '901-234-5678',\n",
       "   'address': '901 Elm Street, Anytown, CA 12345'},\n",
       "  {'id': '7',\n",
       "   'name': 'Thomas Williams',\n",
       "   'email': 'thomas.williams@example.com',\n",
       "   'phone': '234-567-8901',\n",
       "   'address': '234 Pine Street, Anytown, CA 12345'},\n",
       "  {'id': '8',\n",
       "   'name': 'Elizabeth Johnson',\n",
       "   'email': 'elizabeth.johnson@example.com',\n",
       "   'phone': '567-890-1234',\n",
       "   'address': '567 Maple Street, Anytown, CA 12345'},\n",
       "  {'id': '9',\n",
       "   'name': 'James Miller',\n",
       "   'email': 'james.miller@example.com',\n",
       "   'phone': '890-123-4567',\n",
       "   'address': '890 Elm Street, Anytown, CA 12345'},\n",
       "  {'id': '10',\n",
       "   'name': 'William Anderson',\n",
       "   'email': 'william.anderson@example.com',\n",
       "   'phone': '123-456-7890',\n",
       "   'address': '123 Main Street, Anytown, CA 12345'}]}"
      ]
     },
     "execution_count": 9,
     "metadata": {},
     "output_type": "execute_result"
    }
   ],
   "source": [
    "output_parser.parse(output)"
   ]
  },
  {
   "cell_type": "code",
   "execution_count": null,
   "id": "c76386d1-2ee2-48b0-9881-1c0a63382293",
   "metadata": {},
   "outputs": [],
   "source": []
  }
 ],
 "metadata": {
  "kernelspec": {
   "display_name": "Python 3 (ipykernel)",
   "language": "python",
   "name": "python3"
  },
  "language_info": {
   "codemirror_mode": {
    "name": "ipython",
    "version": 3
   },
   "file_extension": ".py",
   "mimetype": "text/x-python",
   "name": "python",
   "nbconvert_exporter": "python",
   "pygments_lexer": "ipython3",
   "version": "3.11.6"
  },
  "widgets": {
   "application/vnd.jupyter.widget-state+json": {
    "state": {},
    "version_major": 2,
    "version_minor": 0
   }
  }
 },
 "nbformat": 4,
 "nbformat_minor": 5
}
